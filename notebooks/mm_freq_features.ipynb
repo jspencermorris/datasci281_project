{
 "cells": [
  {
   "cell_type": "markdown",
   "metadata": {},
   "source": [
    "# Imports"
   ]
  },
  {
   "cell_type": "code",
   "execution_count": 4,
   "metadata": {},
   "outputs": [],
   "source": [
    "# imports\n",
    "\n",
    "import os\n",
    "import numpy as np\n",
    "import random\n",
    "import pandas as pd\n",
    "import json\n",
    "import datetime\n",
    "import pickle\n",
    "import matplotlib.pyplot as plt\n",
    "from utils import *"
   ]
  },
  {
   "cell_type": "code",
   "execution_count": 11,
   "metadata": {},
   "outputs": [],
   "source": [
    "# Global settings\n",
    "FREQBINS = 25\n",
    "SIGMA = 25\n",
    "\n",
    "# From EDA\n",
    "ROWS = 256\n",
    "COLS = 256\n",
    "\n",
    "# Control runtime\n",
    "run_retrain = True\n",
    "display_orig_filt_images = False"
   ]
  },
  {
   "cell_type": "markdown",
   "metadata": {},
   "source": [
    "# Import and split data"
   ]
  },
  {
   "cell_type": "code",
   "execution_count": 12,
   "metadata": {},
   "outputs": [
    {
     "name": "stdout",
     "output_type": "stream",
     "text": [
      "The following classes were selected for evaluation:\n"
     ]
    },
    {
     "data": {
      "text/html": [
       "<div>\n",
       "<style scoped>\n",
       "    .dataframe tbody tr th:only-of-type {\n",
       "        vertical-align: middle;\n",
       "    }\n",
       "\n",
       "    .dataframe tbody tr th {\n",
       "        vertical-align: top;\n",
       "    }\n",
       "\n",
       "    .dataframe thead th {\n",
       "        text-align: right;\n",
       "    }\n",
       "</style>\n",
       "<table border=\"1\" class=\"dataframe\">\n",
       "  <thead>\n",
       "    <tr style=\"text-align: right;\">\n",
       "      <th></th>\n",
       "      <th>Class</th>\n",
       "      <th>Total Image Count</th>\n",
       "    </tr>\n",
       "  </thead>\n",
       "  <tbody>\n",
       "    <tr>\n",
       "      <th>0</th>\n",
       "      <td>beach</td>\n",
       "      <td>800</td>\n",
       "    </tr>\n",
       "    <tr>\n",
       "      <th>1</th>\n",
       "      <td>chaparral</td>\n",
       "      <td>800</td>\n",
       "    </tr>\n",
       "    <tr>\n",
       "      <th>2</th>\n",
       "      <td>dense_residential</td>\n",
       "      <td>800</td>\n",
       "    </tr>\n",
       "    <tr>\n",
       "      <th>3</th>\n",
       "      <td>forest</td>\n",
       "      <td>800</td>\n",
       "    </tr>\n",
       "    <tr>\n",
       "      <th>4</th>\n",
       "      <td>freeway</td>\n",
       "      <td>800</td>\n",
       "    </tr>\n",
       "    <tr>\n",
       "      <th>5</th>\n",
       "      <td>harbor</td>\n",
       "      <td>800</td>\n",
       "    </tr>\n",
       "    <tr>\n",
       "      <th>6</th>\n",
       "      <td>overpass</td>\n",
       "      <td>800</td>\n",
       "    </tr>\n",
       "    <tr>\n",
       "      <th>7</th>\n",
       "      <td>parking_space</td>\n",
       "      <td>800</td>\n",
       "    </tr>\n",
       "    <tr>\n",
       "      <th>8</th>\n",
       "      <td>river</td>\n",
       "      <td>800</td>\n",
       "    </tr>\n",
       "    <tr>\n",
       "      <th>9</th>\n",
       "      <td>swimming_pool</td>\n",
       "      <td>800</td>\n",
       "    </tr>\n",
       "  </tbody>\n",
       "</table>\n",
       "</div>"
      ],
      "text/plain": [
       "               Class  Total Image Count\n",
       "0              beach                800\n",
       "1          chaparral                800\n",
       "2  dense_residential                800\n",
       "3             forest                800\n",
       "4            freeway                800\n",
       "5             harbor                800\n",
       "6           overpass                800\n",
       "7      parking_space                800\n",
       "8              river                800\n",
       "9      swimming_pool                800"
      ]
     },
     "metadata": {},
     "output_type": "display_data"
    },
    {
     "name": "stdout",
     "output_type": "stream",
     "text": [
      "train/validation/test subsets were loaded from a pre-generated file\n",
      "\tNumber of train files: 4799\n",
      "\tNumber of val files: 1599\n",
      "\tNumber of test files: 1601\n"
     ]
    }
   ],
   "source": [
    "# define file directory\n",
    "directory = '../data/interim/PatternNet/PatternNet/images'\n",
    "\n",
    "# create a list of all possible classes\n",
    "all_classes = []\n",
    "for item in os.listdir(directory):\n",
    "    item_path = os.path.join(directory, item)\n",
    "    if os.path.isdir(item_path):\n",
    "        all_classes.append(item)\n",
    "#print(all_classes)\n",
    "        \n",
    "# create a list of classes considered for this project\n",
    "classes = ['beach', 'chaparral', 'dense_residential', 'forest', 'freeway', 'harbor', 'overpass', 'parking_space', 'river', 'swimming_pool']\n",
    "        \n",
    "# inspect the number of images per class\n",
    "data = []\n",
    "for class_name in classes:\n",
    "    class_dir = os.path.join(directory, class_name)\n",
    "    image_count = len(os.listdir(class_dir))\n",
    "    data.append([class_name, image_count])\n",
    "image_count_df = pd.DataFrame(data, columns=['Class', 'Total Image Count'])\n",
    "print(\"The following classes were selected for evaluation:\")\n",
    "display(image_count_df)\n",
    "\n",
    "# define the train, val, and test sets\n",
    "train_files, val_files, test_files = generate_splits(classes, directory)"
   ]
  },
  {
   "cell_type": "markdown",
   "metadata": {},
   "source": [
    "# Utility functions"
   ]
  },
  {
   "cell_type": "code",
   "execution_count": 13,
   "metadata": {},
   "outputs": [],
   "source": [
    "def create_dataframe(histogram_bins):\n",
    "    fixed_column_names = ['class_name', 'class_id']\n",
    "    empty_df = pd.DataFrame(columns=fixed_column_names)\n",
    "\n",
    "    # Additional column names generated using list comprehension\n",
    "    bin_names = [f'Bin_{i}' for i in range(1, histogram_bins + 1)] \n",
    "\n",
    "    # Add the additional columns to the empty DataFrame\n",
    "    for column_name in bin_names:\n",
    "        empty_df[column_name] = None  # Add the column with None values\n",
    "\n",
    "    # Display the resulting DataFrame\n",
    "    return (empty_df)\n"
   ]
  },
  {
   "cell_type": "code",
   "execution_count": 14,
   "metadata": {},
   "outputs": [],
   "source": [
    "# define a function to run spectrum images in a directory (given a file subset)\n",
    "# The function runs a FFT analysis on all training files \n",
    "def generate_freq_spectrum(files, directory, images_per_class=3):\n",
    "    # create a dictionary to store class images\n",
    "    class_images = {}\n",
    "    \n",
    "    # iterate over each file\n",
    "    for class_name, file_name in files:\n",
    "        # load the image\n",
    "        img = plt.imread(os.path.join(directory, class_name, file_name))\n",
    "        # if class not in dictionary, initialize empty list\n",
    "        if class_name not in class_images:\n",
    "            class_images[class_name] = []\n",
    "        # append image to class list\n",
    "        class_images[class_name].append(img)\n",
    "\n",
    "    # create a grid of images\n",
    "    count = 0\n",
    "    pd1 = create_dataframe(histogram_bins=FREQBINS)\n",
    "    pd2 = create_dataframe(histogram_bins=FREQBINS)\n",
    "    filt = create_gaussian_filter(ROWS, COLS, SIGMA)\n",
    "    \n",
    "    num_classes = len(class_images)\n",
    "    for i, (class_name, images) in enumerate(class_images.items()):\n",
    "        # display random images in the subsequent columns\n",
    "        random.shuffle(images)\n",
    "        for j in range(images_per_class):\n",
    "            magnitude_spectrum = fft_image(images[j])\n",
    "            spec = np.log(1+magnitude_spectrum).ravel()\n",
    "            \n",
    "            hist, bins = np.histogram(spec, bins=FREQBINS) \n",
    "            hist1_df = pd.DataFrame([hist], columns=[f'Bin_{i}' for i in range(1, len(hist) + 1)], dtype=int)\n",
    "            hist1_df['class_name'] = class_name\n",
    "            hist1_df['class_id'] = i\n",
    "\n",
    "            filtered_image = apply_gaussian_filter(images[j], filt)\n",
    "\n",
    "            magnitude_spectrum = fft_image(filtered_image)\n",
    "            spec = np.log(1+magnitude_spectrum).ravel()\n",
    "            \n",
    "            hist, bins = np.histogram(spec, bins=FREQBINS) \n",
    "            hist2_df = pd.DataFrame([hist], columns=[f'Bin_{i}' for i in range(1, len(hist) + 1)], dtype=int)\n",
    "            hist2_df['class_name'] = class_name\n",
    "            hist2_df['class_id'] = i\n",
    "            \n",
    "            count += 1\n",
    "            \n",
    "            pd1 = pd.concat([pd1, hist1_df], ignore_index=True)\n",
    "            pd2 = pd.concat([pd2, hist2_df], ignore_index=True)\n",
    "    \n",
    "    return pd1, pd2"
   ]
  },
  {
   "cell_type": "code",
   "execution_count": 15,
   "metadata": {},
   "outputs": [],
   "source": [
    "# define a function to show a grid of spectrum images in a directory (given a file subset)\n",
    "def display_orig_filtered_image(files, directory, images_per_class=3, sigma=SIGMA):\n",
    "    # create a dictionary to store class images\n",
    "    class_images = {}\n",
    "    \n",
    "    # iterate over each file\n",
    "    for class_name, file_name in files:\n",
    "        # load the image\n",
    "        img = plt.imread(os.path.join(directory, class_name, file_name))\n",
    "        # if class not in dictionary, initialize empty list\n",
    "        if class_name not in class_images:\n",
    "            class_images[class_name] = []\n",
    "        # append image to class list\n",
    "        class_images[class_name].append(img)\n",
    "\n",
    "    # create a grid of images\n",
    "    filt = create_filter(ROWS, COLS, sigma)\n",
    "    \n",
    "    num_classes = len(class_images)\n",
    "    fig, axes = plt.subplots(num_classes, (images_per_class + 1), figsize=(12, 3*num_classes))\n",
    "    for i, (class_name, images) in enumerate(class_images.items()):\n",
    "        #display class name in the first column\n",
    "        axes[i, 0].text(0.5, 0.5, class_name, fontsize=16, ha='center', va='center')\n",
    "        axes[i, 0].axis('off')\n",
    "\n",
    "        # display random images in the subsequent columns\n",
    "        random.shuffle(images)\n",
    "        for j in range(images_per_class):\n",
    "            magnitude_spectrum1 = fft_image(images[j])\n",
    "            spec = np.log(1+magnitude_spectrum1).ravel()\n",
    "            \n",
    "            filtered_image = apply_gaussian_filter(images[j], filt)\n",
    "            magnitude_spectrum2 = fft_image(filtered_image)\n",
    "            spec = np.log(1+magnitude_spectrum2).ravel()\n",
    "            \n",
    "            #axes[i, j+1].imshow(images[j], cmap='gray')\n",
    "            axes[i, j+1].imshow(filtered_image, cmap='gray')\n",
    "\n",
    "\n",
    "    plt.tight_layout()\n",
    "    plt.show()\n",
    "\n",
    "    return"
   ]
  },
  {
   "cell_type": "markdown",
   "metadata": {},
   "source": [
    "## main function to control execution"
   ]
  },
  {
   "cell_type": "code",
   "execution_count": 16,
   "metadata": {},
   "outputs": [
    {
     "name": "stdout",
     "output_type": "stream",
     "text": [
      "Time taken for training: 0:01:53.659454\n"
     ]
    }
   ],
   "source": [
    "if run_retrain is True:\n",
    "    start_time = datetime.datetime.now()\n",
    "    unfilt_train_df, filt_train_df = generate_freq_spectrum(train_files, directory, images_per_class=450)\n",
    "    end_time = datetime.datetime.now()\n",
    "\n",
    "    # Calculate the elapsed time\n",
    "    elapsed_time = end_time - start_time\n",
    "    print(\"Time taken for training:\", elapsed_time)\n",
    "\n",
    "if display_orig_filt_images:\n",
    "    display_orig_filtered_image(train_files, directory, images_per_class=1, sigma=SIGMA)"
   ]
  },
  {
   "cell_type": "markdown",
   "metadata": {},
   "source": [
    "Save both filtered and unfiltered dataframes for future analysis"
   ]
  },
  {
   "cell_type": "code",
   "execution_count": 17,
   "metadata": {},
   "outputs": [],
   "source": [
    "csv_name = f'freq_spec_no_filt_bins_{FREQBINS}.csv'\n",
    "directory = '../data/processed/'\n",
    "file = directory + csv_name\n",
    "unfilt_train_df.to_csv(directory+csv_name, index=False)\n",
    "\n",
    "csv_name = f'freq_spec_lpf_{SIGMA}_bins_{FREQBINS}.csv'\n",
    "directory = '../data/processed/'\n",
    "file = directory + csv_name\n",
    "filt_train_df.to_csv(directory+csv_name, index=False)"
   ]
  },
  {
   "cell_type": "markdown",
   "metadata": {},
   "source": [
    "## Slice and Dice on training data\n",
    "Peek-poke and summarise training data - filtered/unfiltered."
   ]
  },
  {
   "cell_type": "code",
   "execution_count": 18,
   "metadata": {},
   "outputs": [
    {
     "name": "stdout",
     "output_type": "stream",
     "text": [
      "              Bin_1      Bin_2       Bin_3        Bin_4        Bin_5  \\\n",
      "               mean       mean        mean         mean         mean   \n",
      "class_id                                                               \n",
      "0         18.288889  70.248889  273.877778   960.737778  3184.513333   \n",
      "1         17.502222  71.217778  278.724444   994.417778  3381.895556   \n",
      "2         15.446667  53.848889  187.340000   615.522222  1925.764444   \n",
      "3         16.720000  66.726667  254.008889   907.686667  3022.044444   \n",
      "4         19.235556  77.086667  282.300000   951.635556  3023.973333   \n",
      "5         16.115556  62.471111  230.542222   804.437778  2643.642222   \n",
      "6         17.608889  68.624444  262.751111   941.562222  3133.526667   \n",
      "7         18.126667  69.011111  263.708889   932.840000  3124.137778   \n",
      "8         17.515556  71.911111  282.122222  1022.811111  3464.317778   \n",
      "9         16.753333  62.762222  231.966667   794.153333  2572.284444   \n",
      "\n",
      "                 Bin_6         Bin_7         Bin_8         Bin_9       Bin_10  \\\n",
      "                  mean          mean          mean          mean         mean   \n",
      "class_id                                                                        \n",
      "0          9345.453333  19708.831111  18346.944444   4561.811111  1741.591111   \n",
      "1         10032.937778  20608.482222  16768.588889   3577.495556  1964.257778   \n",
      "2          5559.595556  13365.520000  20005.122222  11018.622222  2660.066667   \n",
      "3          8979.451111  19465.620000  18755.824444   4640.057778  1873.011111   \n",
      "4          8583.646667  18529.826667  20384.073333   6587.604444  1683.164444   \n",
      "5          7816.637778  17423.368889  18640.497778   5442.920000  2040.535556   \n",
      "6          9270.191111  19549.722222  17544.233333   4035.231111  1711.264444   \n",
      "7          9169.971111  19006.311111  16362.395556   3861.015556  1981.228889   \n",
      "8         10265.931111  21224.824444  17666.120000   3752.011111  1766.320000   \n",
      "9          7507.786667  16640.700000  18355.937778   6028.255556  2085.657778   \n",
      "\n",
      "          ...       Bin_16      Bin_17      Bin_18      Bin_19      Bin_20  \\\n",
      "          ...         mean        mean        mean        mean        mean   \n",
      "class_id  ...                                                                \n",
      "0         ...   470.546667  239.515556  115.577778   50.413333   15.920000   \n",
      "1         ...   396.235556  171.568889   69.680000   28.444444   10.324444   \n",
      "2         ...   959.231111  571.600000  261.386667   88.244444   21.328889   \n",
      "3         ...   547.137778  311.280000  158.280000   79.573333   40.040000   \n",
      "4         ...   341.688889  177.417778   69.466667   25.408889   10.640000   \n",
      "5         ...   966.631111  637.880000  364.288889  177.586667   73.351111   \n",
      "6         ...   926.262222  618.657778  335.337778  147.617778   57.528889   \n",
      "7         ...  1155.724444  818.484444  423.168889  129.573333   19.462222   \n",
      "8         ...   360.937778  184.897778   71.951111   30.831111   12.115556   \n",
      "9         ...  1158.480000  828.311111  501.635556  248.124444  112.173333   \n",
      "\n",
      "             Bin_21     Bin_22    Bin_23    Bin_24    Bin_25  \n",
      "               mean       mean      mean      mean      mean  \n",
      "class_id                                                      \n",
      "0          3.431111   0.253333  3.924444  3.973333  1.106667  \n",
      "1          3.382222   0.626667  3.715556  4.040000  1.248889  \n",
      "2          3.266667   0.377778  3.924444  4.008889  1.026667  \n",
      "3         17.875556   5.146667  3.640000  4.120000  1.808889  \n",
      "4          5.311111   2.053333  3.022222  4.026667  1.008889  \n",
      "5         24.373333   4.488889  3.751111  4.160000  1.195556  \n",
      "6         20.302222   6.742222  2.297778  4.208889  3.413333  \n",
      "7          0.684444   0.031111  3.964444  4.017778  1.017778  \n",
      "8          3.671111   1.146667  2.217778  4.484444  2.440000  \n",
      "9         42.715556  11.111111  3.528889  4.417778  1.991111  \n",
      "\n",
      "[10 rows x 25 columns]\n"
     ]
    }
   ],
   "source": [
    "grouped_df = filt_train_df.loc[:,'class_id':'Bin_25'].groupby('class_id')\n",
    "summary_df = grouped_df.agg(['mean'])\n",
    "print(summary_df)"
   ]
  },
  {
   "cell_type": "code",
   "execution_count": 19,
   "metadata": {},
   "outputs": [],
   "source": [
    "#filt_train_df.loc[0:4, 'class_name': 'Bin_10']"
   ]
  },
  {
   "cell_type": "code",
   "execution_count": 20,
   "metadata": {},
   "outputs": [],
   "source": [
    "#filt_train_df.loc[0:2, 'Bin_1': 'Bin_20'].plot(kind='bar', legend=False)\n",
    "#plt.xlabel(filt_train_df.columns[0])\n",
    "#plt.ylabel('Frequency')\n",
    "#plt.title('Histogram from DataFrame with Bins as Columns')\n",
    "#plt.show()\n"
   ]
  },
  {
   "cell_type": "code",
   "execution_count": 21,
   "metadata": {},
   "outputs": [],
   "source": [
    "#filt_train_df.loc[:,'class_id':'Bin_14']"
   ]
  },
  {
   "cell_type": "markdown",
   "metadata": {},
   "source": [
    "## Run prediction models on test data\n",
    "Try Random forest and KNN on training data"
   ]
  },
  {
   "cell_type": "code",
   "execution_count": 22,
   "metadata": {},
   "outputs": [
    {
     "name": "stdout",
     "output_type": "stream",
     "text": [
      "Accuracy of RF model: 0.8555555555555555\n",
      "Accuracy of KNN model:  0.7214814814814815\n",
      "Accuracy of SVM model:  0.7837037037037037\n"
     ]
    }
   ],
   "source": [
    "# Splitting arrays or matrices into random train and test subsets\n",
    "from sklearn.model_selection import train_test_split\n",
    "from sklearn.ensemble import RandomForestClassifier\n",
    "from sklearn import metrics, svm\n",
    "from sklearn.neighbors import KNeighborsClassifier\n",
    "\n",
    "shuffled_df = filt_train_df.sample(frac=1).reset_index(drop=True)\n",
    "\n",
    "X = shuffled_df.loc[:, 'Bin_5': 'Bin_20']\n",
    "y = shuffled_df['class_name']\n",
    "\n",
    "# i.e. 70 % training dataset and 30 % test datasets\n",
    "X_train, X_test, y_train, y_test = train_test_split(X, y, test_size = 0.30)\n",
    "\n",
    "# creating a RF classifier\n",
    "clf = RandomForestClassifier(n_estimators = 100, max_depth=10)  \n",
    " \n",
    "# Training the model on the training dataset\n",
    "# fit function is used to train the model using the training sets as parameters\n",
    "clf.fit(X_train, y_train)\n",
    " \n",
    "# performing predictions on the test dataset\n",
    "y_pred = clf.predict(X_test)\n",
    "\n",
    "# using metrics module for accuracy calculation\n",
    "print(\"Accuracy of RF model:\", metrics.accuracy_score(y_test, y_pred))\n",
    "\n",
    "# Create KNN classifier\n",
    "knn = KNeighborsClassifier(n_neighbors = 3)# Fit the classifier to the data\n",
    "knn.fit(X_train, y_train)\n",
    "\n",
    "y_pred = knn.predict(X_test)\n",
    "\n",
    "print('Accuracy of KNN model: ', knn.score(X_test, y_test))\n",
    "\n",
    "poly = svm.SVC(kernel='poly', C=5, decision_function_shape='ovr').fit(X_train, y_train)\n",
    "poly_pred = poly.predict(X_test)\n",
    "\n",
    "print('Accuracy of SVM model: ', poly.score(X_test, y_test))"
   ]
  },
  {
   "cell_type": "markdown",
   "metadata": {},
   "source": [
    "## PCA\n",
    "See which features (bins) are of importance "
   ]
  },
  {
   "cell_type": "code",
   "execution_count": 23,
   "metadata": {},
   "outputs": [
    {
     "data": {
      "image/png": "[encoded data removed]",
      "text/plain": [
       "<Figure size 640x480 with 1 Axes>"
      ]
     },
     "metadata": {},
     "output_type": "display_data"
    },
    {
     "name": "stdout",
     "output_type": "stream",
     "text": [
      "             PC0       PC1       PC2       PC3       PC4       PC5       PC6  \\\n",
      "Bin_5   0.229067 -0.362987  0.100419  0.242316 -0.088171 -0.126400 -0.255139   \n",
      "Bin_6   0.241877 -0.364350  0.101661  0.155157 -0.031991 -0.046667 -0.078702   \n",
      "Bin_7   0.265585 -0.307129  0.043221 -0.158333  0.129629  0.162911  0.393370   \n",
      "Bin_8  -0.121429  0.422433 -0.213711 -0.409891  0.159177  0.117243  0.123317   \n",
      "Bin_9  -0.188913  0.393844 -0.020979  0.334289 -0.172818 -0.190318 -0.393909   \n",
      "Bin_10 -0.199965  0.200365  0.287988  0.643121 -0.047630  0.078221  0.487641   \n",
      "Bin_11 -0.230725 -0.028350  0.451789  0.009627  0.352695  0.405174  0.065086   \n",
      "Bin_12 -0.253053 -0.088813  0.421844 -0.144229  0.255669  0.048368 -0.302760   \n",
      "Bin_13 -0.280032 -0.120732  0.319649 -0.215036  0.047826 -0.303235 -0.152126   \n",
      "Bin_14 -0.298818 -0.150300  0.157946 -0.205053 -0.183616 -0.378739  0.129598   \n",
      "Bin_15 -0.302546 -0.170543 -0.009346 -0.121011 -0.328623 -0.195759  0.262800   \n",
      "Bin_16 -0.295646 -0.190116 -0.124183 -0.039861 -0.333681  0.123236  0.162511   \n",
      "Bin_17 -0.286325 -0.206913 -0.191031  0.022668 -0.237905  0.346308 -0.039441   \n",
      "Bin_18 -0.275981 -0.217047 -0.251930  0.092160 -0.014873  0.368251 -0.238941   \n",
      "Bin_19 -0.252685 -0.199720 -0.321238  0.164847  0.315490  0.047565 -0.163773   \n",
      "Bin_20 -0.205309 -0.162955 -0.347580  0.192822  0.561671 -0.431289  0.221412   \n",
      "\n",
      "             PC7       PC8       PC9      PC10      PC11      PC12      PC13  \\\n",
      "Bin_5  -0.157374  0.054539 -0.025853  0.030521 -0.071271  0.541323 -0.063302   \n",
      "Bin_6  -0.044068  0.019072 -0.009709  0.005666 -0.005304  0.039084  0.000604   \n",
      "Bin_7   0.224637 -0.065699  0.035812 -0.028951  0.062480 -0.464621  0.049744   \n",
      "Bin_8   0.047288 -0.000923 -0.009384  0.021547 -0.066257  0.467194 -0.053264   \n",
      "Bin_9  -0.167294  0.037367 -0.003675 -0.021765  0.062986 -0.436302  0.051387   \n",
      "Bin_10  0.340076 -0.103693  0.017153 -0.004985 -0.024539  0.210847 -0.028340   \n",
      "Bin_11 -0.495886  0.415500 -0.156550  0.045400 -0.003673 -0.049277  0.012100   \n",
      "Bin_12  0.059131 -0.546428  0.476208 -0.194231  0.029207  0.032865 -0.000403   \n",
      "Bin_13  0.370494 -0.035474 -0.496490  0.466597 -0.182542 -0.052399  0.014076   \n",
      "Bin_14  0.110529  0.353418 -0.018358 -0.496863  0.466653  0.074531 -0.129134   \n",
      "Bin_15 -0.203414  0.126996  0.355877  0.025816 -0.565672 -0.023427  0.374727   \n",
      "Bin_16 -0.270701 -0.223564  0.097137  0.382996  0.172640 -0.058790 -0.625087   \n",
      "Bin_17 -0.062657 -0.290021 -0.315577 -0.026364  0.353045  0.115160  0.576122   \n",
      "Bin_18  0.277286  0.095144 -0.190359 -0.436167 -0.446636 -0.076328 -0.305502   \n",
      "Bin_19  0.306834  0.391738  0.430026  0.370401  0.230951  0.028705  0.114962   \n",
      "Bin_20 -0.297416 -0.264721 -0.206412 -0.131819 -0.053139 -0.027523 -0.024458   \n",
      "\n",
      "            PC14      PC15  \n",
      "Bin_5  -0.517255  0.243124  \n",
      "Bin_6   0.765394  0.418479  \n",
      "Bin_7  -0.355794  0.452081  \n",
      "Bin_8   0.052274  0.554809  \n",
      "Bin_9  -0.128486  0.482091  \n",
      "Bin_10  0.018928  0.064833  \n",
      "Bin_11 -0.013167  0.032955  \n",
      "Bin_12 -0.004194  0.037713  \n",
      "Bin_13 -0.011059  0.045629  \n",
      "Bin_14 -0.002557  0.053262  \n",
      "Bin_15 -0.004274  0.058988  \n",
      "Bin_16  0.000297  0.055888  \n",
      "Bin_17 -0.008082  0.043684  \n",
      "Bin_18 -0.003737  0.027662  \n",
      "Bin_19 -0.003043  0.012767  \n",
      "Bin_20 -0.002087  0.009707  \n"
     ]
    }
   ],
   "source": [
    "from sklearn.decomposition import PCA\n",
    "\n",
    "df = filt_train_df.loc[:, 'Bin_5': 'Bin_20']\n",
    "\n",
    "# You must normalize the data before applying the fit method\n",
    "df_normalized=(df - df.mean()) / df.std()\n",
    "pca = PCA(n_components=df.shape[1])\n",
    "pca.fit(df_normalized)\n",
    "\n",
    "plt.plot(pca.explained_variance_ratio_)\n",
    "plt.ylabel('Explained Variance')\n",
    "plt.xlabel('Components')\n",
    "plt.show()\n",
    "\n",
    "\n",
    "# Reformat and view results\n",
    "loadings = pd.DataFrame(pca.components_.T,\n",
    "columns=['PC%s' % _ for _ in range(len(df_normalized.columns))],\n",
    "index=df.columns)\n",
    "print(loadings)\n",
    "\n",
    "\n"
   ]
  },
  {
   "cell_type": "code",
   "execution_count": 24,
   "metadata": {},
   "outputs": [
    {
     "name": "stdout",
     "output_type": "stream",
     "text": [
      "Bin_17 11\n",
      "Bin_18 11\n",
      "Bin_20 10\n",
      "Bin_15 9\n",
      "Bin_16 9\n",
      "Bin_13 9\n",
      "Bin_6 9\n",
      "Bin_12 8\n",
      "Bin_11 8\n",
      "Bin_5 8\n",
      "Bin_14 7\n",
      "Bin_9 7\n",
      "Bin_19 6\n",
      "Bin_7 6\n",
      "Bin_8 6\n",
      "Bin_10 4\n"
     ]
    }
   ],
   "source": [
    "dictbin = {}\n",
    "for i in loadings.columns:\n",
    "    k = loadings.sort_values(by=[i])\n",
    "    bincount = 0\n",
    "    for bins in k.index:\n",
    "        bincount += 1\n",
    "        if bincount == 10:\n",
    "            break\n",
    "        if bins in dictbin:\n",
    "            dictbin[bins] += 1\n",
    "        else:\n",
    "            dictbin[bins] = 0\n",
    "\n",
    "sorted_by_values= sorted(dictbin.items(), key=lambda x: x[1], reverse=True)\n",
    "\n",
    "# Print the sorted dictionary\n",
    "for key, value in sorted_by_values:\n",
    "    print(key, value)"
   ]
  },
  {
   "cell_type": "code",
   "execution_count": 25,
   "metadata": {},
   "outputs": [],
   "source": [
    "# Use this codeblock to read from pre-trained data\n",
    "if not run_retrain:\n",
    "    csv_name = f'freq_spec_lpf_{SIGMA}_bins_{FREQBINS}.csv'\n",
    "    directory = '../data/processed/'\n",
    "    file = directory + csv_name\n",
    "    filt_train_df = pd.read_csv(directory+csv_name)\n",
    "    \n",
    "    csv_name = f'freq_spec_no_filt_bins_{FREQBINS}.csv'\n",
    "    directory = '../data/processed/'\n",
    "    file = directory + csv_name\n",
    "    unfilt_train_df = pd.read_csv(directory+csv_name)"
   ]
  },
  {
   "cell_type": "code",
   "execution_count": null,
   "metadata": {},
   "outputs": [],
   "source": []
  }
 ],
 "metadata": {
  "kernelspec": {
   "display_name": "Python 3 (ipykernel)",
   "language": "python",
   "name": "python3"
  },
  "language_info": {
   "codemirror_mode": {
    "name": "ipython",
    "version": 3
   },
   "file_extension": ".py",
   "mimetype": "text/x-python",
   "name": "python",
   "nbconvert_exporter": "python",
   "pygments_lexer": "ipython3",
   "version": "3.10.9"
  }
 },
 "nbformat": 4,
 "nbformat_minor": 2
}
