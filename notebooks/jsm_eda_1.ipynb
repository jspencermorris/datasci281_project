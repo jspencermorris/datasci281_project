{
 "cells": [
  {
   "cell_type": "markdown",
   "metadata": {},
   "source": [
    "# Imports"
   ]
  },
  {
   "cell_type": "code",
   "execution_count": 1,
   "metadata": {},
   "outputs": [],
   "source": [
    "import numpy as np\n",
    "import os\n",
    "import json\n",
    "import cv2\n",
    "from skimage.feature import hog\n",
    "import tarfile\n",
    "from utils import *"
   ]
  },
  {
   "cell_type": "markdown",
   "metadata": {},
   "source": [
    "# Helper Functions"
   ]
  },
  {
   "cell_type": "code",
   "execution_count": 2,
   "metadata": {},
   "outputs": [],
   "source": [
    "# define a function that determines the mean and standard deviation of each RGB and and L*a*b*\n",
    "# color-space channel for an image\n",
    "def compute_channel_stats(image_path):\n",
    "    # read the image\n",
    "    img = cv2.imread(image_path)\n",
    "    \n",
    "    # convert image to L*a*b* color space\n",
    "    lab_img = cv2.cvtColor(img, cv2.COLOR_BGR2LAB)\n",
    "    \n",
    "    # compute mean and standard deviation for each color channel (RGB and L*a*b*)\n",
    "    mean_rgb, std_rgb = cv2.meanStdDev(img)\n",
    "    mean_lab, std_lab = cv2.meanStdDev(lab_img)\n",
    "    \n",
    "    # flatten the results into a feature vector\n",
    "    channel_stats = np.concatenate((mean_rgb.flatten(), std_rgb.flatten(), mean_lab.flatten(), std_lab.flatten()))\n",
    "    \n",
    "    return channel_stats"
   ]
  },
  {
   "cell_type": "code",
   "execution_count": 3,
   "metadata": {},
   "outputs": [],
   "source": [
    "# define a function that determines the hog descriptors for an image's grayscale representation\n",
    "def compute_hog_stats(image_path):\n",
    "    # read the image\n",
    "    img = cv2.imread(image_path)\n",
    "    \n",
    "    # convert image to grayscale\n",
    "    gray_img = cv2.cvtColor(img, cv2.COLOR_BGR2GRAY)\n",
    "    \n",
    "    # compute HOG features\n",
    "    fd, hog_image = hog(gray_img, orientations=4, pixels_per_cell=(32, 32), visualize=True)\n",
    "    \n",
    "    return fd, hog_image"
   ]
  },
  {
   "cell_type": "code",
   "execution_count": 4,
   "metadata": {},
   "outputs": [],
   "source": [
    "# define a function that loops through each file to generate a dictionary that contains\n",
    "# the feature vectors of all images in each class\n",
    "def generate_feature_vectors(files, directory):\n",
    "    feature_vectors = {}\n",
    "    hog_images = {}\n",
    "    \n",
    "    # iterate over each file\n",
    "    for class_name, file_name in files:\n",
    "        # load the image\n",
    "        img_path = os.path.join(directory, class_name, file_name)\n",
    "        \n",
    "        # compute color statistics\n",
    "        channel_stats = compute_channel_stats(img_path)\n",
    "        \n",
    "        # compute HOG features\n",
    "        hog_stats, hog_image = compute_hog_stats(img_path)\n",
    "        \n",
    "        # concatenate color statistics and HOG features\n",
    "        stats = np.concatenate((channel_stats, hog_stats))\n",
    "        \n",
    "        # append feature vector to the correct class in feature_vectors\n",
    "        if class_name not in feature_vectors:\n",
    "            feature_vectors[class_name] = []\n",
    "        feature_vectors[class_name].append(stats)\n",
    "        \n",
    "        # append hog_image to the correct class in hog_images\n",
    "        if class_name not in hog_images:\n",
    "            hog_images[class_name] = []\n",
    "        hog_images[class_name].append(hog_image)\n",
    "        \n",
    "        \n",
    "        # TODO:  add additional features to the feature_vector (SIFT, spatial frequencies, texture, others?)\n",
    "    \n",
    "    return feature_vectors, hog_images"
   ]
  },
  {
   "cell_type": "code",
   "execution_count": 5,
   "metadata": {},
   "outputs": [],
   "source": [
    "# define a function to save the feature vector dictionary to disk\n",
    "def save_feature_vectors(feature_vectors, filename):\n",
    "    # convert numpy arrays to Python lists\n",
    "    feature_vectors_dict = {}\n",
    "    for class_name, vectors in feature_vectors.items():\n",
    "        feature_vectors_dict[class_name] = [vector.tolist() for vector in vectors]\n",
    "    \n",
    "    # save feature_vectors_dict dictionary as JSON\n",
    "    json_filename = filename.replace('.tar.gz', '.json')\n",
    "    with open(json_filename, 'w') as f:\n",
    "        json.dump(feature_vectors_dict, f)\n",
    "    \n",
    "    # create tar.gz file\n",
    "    with tarfile.open(filename, 'w:gz') as tar:\n",
    "        tar.add(json_filename, arcname=os.path.basename(json_filename))\n",
    "    \n",
    "    # remove the temporary JSON file\n",
    "    os.remove(json_filename)"
   ]
  },
  {
   "cell_type": "code",
   "execution_count": 6,
   "metadata": {},
   "outputs": [],
   "source": [
    "# define a function to load the feature vector dictionary from disk\n",
    "def load_feature_vectors(filename):\n",
    "    # extract the JSON file from the tar.gz file\n",
    "    with tarfile.open(filename, 'r:gz') as tar:\n",
    "        tar.extractall()\n",
    "        json_filename = tar.getnames()[0]  # assuming only one file in the archive\n",
    "    \n",
    "    # load the JSON file and convert Python lists back to numpy arrays\n",
    "    with open(json_filename, 'r') as f:\n",
    "        feature_vectors_dict = json.load(f)\n",
    "    \n",
    "    feature_vectors = {}\n",
    "    for class_name, vectors in feature_vectors_dict.items():\n",
    "        feature_vectors[class_name] = [np.array(vector) for vector in vectors]\n",
    "    \n",
    "    # remove the extracted JSON file\n",
    "    os.remove(json_filename)\n",
    "    \n",
    "    return feature_vectors\n"
   ]
  },
  {
   "cell_type": "markdown",
   "metadata": {},
   "source": [
    "# Import data"
   ]
  },
  {
   "cell_type": "code",
   "execution_count": 7,
   "metadata": {},
   "outputs": [
    {
     "name": "stdout",
     "output_type": "stream",
     "text": [
      "train/validation/test subsets were loaded from a pre-generated file\n",
      "\tNumber of train files: 4799\n",
      "\tNumber of val files: 1599\n",
      "\tNumber of test files: 1601\n"
     ]
    }
   ],
   "source": [
    "# define file directory\n",
    "directory = '../data/interim/PatternNet/PatternNet/images'\n",
    "\n",
    "# create a list of classes considered for this project\n",
    "classes = ['beach', 'chaparral', 'dense_residential', 'forest', 'freeway', 'harbor', 'overpass', 'parking_space', 'river', 'swimming_pool']\n",
    "\n",
    "# define the train, val, and test sets\n",
    "train_files, val_files, test_files = generate_splits(classes, directory)"
   ]
  },
  {
   "cell_type": "markdown",
   "metadata": {},
   "source": [
    "# Generate Feature Vectors"
   ]
  },
  {
   "cell_type": "code",
   "execution_count": 8,
   "metadata": {},
   "outputs": [
    {
     "name": "stderr",
     "output_type": "stream",
     "text": [
      "[ WARN:0@0.506] global /Users/runner/work/opencv-python/opencv-python/opencv/modules/imgcodecs/src/loadsave.cpp (239) findDecoder imread_('../data/interim/PatternNet/PatternNet/images/parking_space/parkingspace250.jpg'): can't open/read file: check file path/integrity\n"
     ]
    },
    {
     "ename": "error",
     "evalue": "OpenCV(4.5.5) /Users/runner/work/opencv-python/opencv-python/opencv/modules/imgproc/src/color.cpp:182: error: (-215:Assertion failed) !_src.empty() in function 'cvtColor'\n",
     "output_type": "error",
     "traceback": [
      "\u001b[0;31m---------------------------------------------------------------------------\u001b[0m",
      "\u001b[0;31merror\u001b[0m                                     Traceback (most recent call last)",
      "Cell \u001b[0;32mIn[8], line 2\u001b[0m\n\u001b[1;32m      1\u001b[0m \u001b[38;5;66;03m# generate the set of feature vectors for all images in each class\u001b[39;00m\n\u001b[0;32m----> 2\u001b[0m feature_vectors, hog_images \u001b[38;5;241m=\u001b[39m \u001b[43mgenerate_feature_vectors\u001b[49m\u001b[43m(\u001b[49m\u001b[43mtrain_files\u001b[49m\u001b[43m,\u001b[49m\u001b[43m \u001b[49m\u001b[43mdirectory\u001b[49m\u001b[43m)\u001b[49m\n",
      "Cell \u001b[0;32mIn[4], line 13\u001b[0m, in \u001b[0;36mgenerate_feature_vectors\u001b[0;34m(files, directory)\u001b[0m\n\u001b[1;32m     10\u001b[0m img_path \u001b[38;5;241m=\u001b[39m os\u001b[38;5;241m.\u001b[39mpath\u001b[38;5;241m.\u001b[39mjoin(directory, class_name, file_name)\n\u001b[1;32m     12\u001b[0m \u001b[38;5;66;03m# compute color statistics\u001b[39;00m\n\u001b[0;32m---> 13\u001b[0m channel_stats \u001b[38;5;241m=\u001b[39m \u001b[43mcompute_channel_stats\u001b[49m\u001b[43m(\u001b[49m\u001b[43mimg_path\u001b[49m\u001b[43m)\u001b[49m\n\u001b[1;32m     15\u001b[0m \u001b[38;5;66;03m# compute HOG features\u001b[39;00m\n\u001b[1;32m     16\u001b[0m hog_stats, hog_image \u001b[38;5;241m=\u001b[39m compute_hog_stats(img_path)\n",
      "Cell \u001b[0;32mIn[2], line 8\u001b[0m, in \u001b[0;36mcompute_channel_stats\u001b[0;34m(image_path)\u001b[0m\n\u001b[1;32m      5\u001b[0m img \u001b[38;5;241m=\u001b[39m cv2\u001b[38;5;241m.\u001b[39mimread(image_path)\n\u001b[1;32m      7\u001b[0m \u001b[38;5;66;03m# convert image to L*a*b* color space\u001b[39;00m\n\u001b[0;32m----> 8\u001b[0m lab_img \u001b[38;5;241m=\u001b[39m \u001b[43mcv2\u001b[49m\u001b[38;5;241;43m.\u001b[39;49m\u001b[43mcvtColor\u001b[49m\u001b[43m(\u001b[49m\u001b[43mimg\u001b[49m\u001b[43m,\u001b[49m\u001b[43m \u001b[49m\u001b[43mcv2\u001b[49m\u001b[38;5;241;43m.\u001b[39;49m\u001b[43mCOLOR_BGR2LAB\u001b[49m\u001b[43m)\u001b[49m\n\u001b[1;32m     10\u001b[0m \u001b[38;5;66;03m# compute mean and standard deviation for each color channel (RGB and L*a*b*)\u001b[39;00m\n\u001b[1;32m     11\u001b[0m mean_rgb, std_rgb \u001b[38;5;241m=\u001b[39m cv2\u001b[38;5;241m.\u001b[39mmeanStdDev(img)\n",
      "\u001b[0;31merror\u001b[0m: OpenCV(4.5.5) /Users/runner/work/opencv-python/opencv-python/opencv/modules/imgproc/src/color.cpp:182: error: (-215:Assertion failed) !_src.empty() in function 'cvtColor'\n"
     ]
    }
   ],
   "source": [
    "# generate the set of feature vectors for all images in each class\n",
    "feature_vectors, hog_images = generate_feature_vectors(train_files, directory)"
   ]
  },
  {
   "cell_type": "code",
   "execution_count": null,
   "metadata": {},
   "outputs": [],
   "source": [
    "# inspections\n",
    "\n",
    "print(type(feature_vectors))\n",
    "print(feature_vectors.keys())\n",
    "print(type(feature_vectors['beach']))\n",
    "print(len(feature_vectors['beach']))\n",
    "print(len(feature_vectors['beach'][0]))"
   ]
  },
  {
   "cell_type": "markdown",
   "metadata": {},
   "source": [
    "# Save data"
   ]
  },
  {
   "cell_type": "code",
   "execution_count": null,
   "metadata": {},
   "outputs": [],
   "source": [
    "# save feature vector to disk\n",
    "save_feature_vectors(feature_vectors, \"../data/processed/feature_vectors_1.tar.gz\")"
   ]
  },
  {
   "cell_type": "markdown",
   "metadata": {},
   "source": [
    "# Import data"
   ]
  },
  {
   "cell_type": "code",
   "execution_count": null,
   "metadata": {},
   "outputs": [],
   "source": [
    "# load feature vector from disk\n",
    "feature_vectors = load_feature_vectors(\"../data/processed/feature_vectors_1.tar.gz\")"
   ]
  },
  {
   "cell_type": "code",
   "execution_count": null,
   "metadata": {},
   "outputs": [],
   "source": [
    "# inspections\n",
    "\n",
    "print(type(feature_vectors))\n",
    "print(feature_vectors.keys())\n",
    "print(type(feature_vectors['beach']))\n",
    "print(len(feature_vectors['beach']))\n",
    "print(len(feature_vectors['beach'][0]))"
   ]
  },
  {
   "cell_type": "code",
   "execution_count": null,
   "metadata": {},
   "outputs": [],
   "source": [
    "#"
   ]
  }
 ],
 "metadata": {
  "kernelspec": {
   "display_name": "Python 3 (ipykernel)",
   "language": "python",
   "name": "python3"
  },
  "language_info": {
   "codemirror_mode": {
    "name": "ipython",
    "version": 3
   },
   "file_extension": ".py",
   "mimetype": "text/x-python",
   "name": "python",
   "nbconvert_exporter": "python",
   "pygments_lexer": "ipython3",
   "version": "3.10.9"
  }
 },
 "nbformat": 4,
 "nbformat_minor": 2
}
