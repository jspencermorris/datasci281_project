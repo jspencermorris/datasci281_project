{
 "cells": [
  {
   "cell_type": "markdown",
   "metadata": {},
   "source": [
    "# Imports"
   ]
  },
  {
   "cell_type": "code",
   "execution_count": 1,
   "metadata": {},
   "outputs": [
    {
     "name": "stdout",
     "output_type": "stream",
     "text": [
      "Requirement already satisfied: scikit-image in /Users/maiyacaldwell/anaconda3/lib/python3.9/site-packages (0.19.2)\n",
      "Requirement already satisfied: numpy>=1.17.0 in /Users/maiyacaldwell/anaconda3/lib/python3.9/site-packages (from scikit-image) (1.26.1)\n",
      "Requirement already satisfied: scipy>=1.4.1 in /Users/maiyacaldwell/anaconda3/lib/python3.9/site-packages (from scikit-image) (1.10.1)\n",
      "Requirement already satisfied: networkx>=2.2 in /Users/maiyacaldwell/anaconda3/lib/python3.9/site-packages (from scikit-image) (2.7.1)\n",
      "Requirement already satisfied: pillow!=7.1.0,!=7.1.1,!=8.3.0,>=6.1.0 in /Users/maiyacaldwell/anaconda3/lib/python3.9/site-packages (from scikit-image) (9.0.1)\n",
      "Requirement already satisfied: imageio>=2.4.1 in /Users/maiyacaldwell/anaconda3/lib/python3.9/site-packages (from scikit-image) (2.9.0)\n",
      "Requirement already satisfied: tifffile>=2019.7.26 in /Users/maiyacaldwell/anaconda3/lib/python3.9/site-packages (from scikit-image) (2021.7.2)\n",
      "Requirement already satisfied: PyWavelets>=1.1.1 in /Users/maiyacaldwell/anaconda3/lib/python3.9/site-packages (from scikit-image) (1.3.0)\n",
      "Requirement already satisfied: packaging>=20.0 in /Users/maiyacaldwell/anaconda3/lib/python3.9/site-packages (from scikit-image) (23.2)\n"
     ]
    }
   ],
   "source": [
    "!pip install scikit-image"
   ]
  },
  {
   "cell_type": "code",
   "execution_count": 2,
   "metadata": {},
   "outputs": [],
   "source": [
    "import numpy as np\n",
    "import os\n",
    "import json\n",
    "import cv2\n",
    "from skimage.feature import graycomatrix, graycoprops\n",
    "#from skimage.feature import greycomatrix, greycoprops\n",
    "from skimage import data, exposure\n",
    "import matplotlib.pyplot as plt\n",
    "import warnings\n",
    "from utils import *"
   ]
  },
  {
   "cell_type": "code",
   "execution_count": 3,
   "metadata": {},
   "outputs": [],
   "source": [
    "warnings.filterwarnings(\"ignore\")"
   ]
  },
  {
   "cell_type": "markdown",
   "metadata": {},
   "source": [
    "# Helper Functions"
   ]
  },
  {
   "cell_type": "code",
   "execution_count": 4,
   "metadata": {},
   "outputs": [],
   "source": [
    "# define a function that determines the mean and standard deviation of each RGB and and L*a*b*\n",
    "# color-space channel for an image\n",
    "def compute_channel_stats(image_path):\n",
    "    # read the image\n",
    "    img = cv2.imread(image_path)\n",
    "    \n",
    "    # convert image to L*a*b* color space\n",
    "    lab_img = cv2.cvtColor(img, cv2.COLOR_BGR2LAB)\n",
    "    \n",
    "    # compute mean and standard deviation for each color channel (RGB and L*a*b*)\n",
    "    mean_rgb, std_rgb = cv2.meanStdDev(img)\n",
    "    mean_lab, std_lab = cv2.meanStdDev(lab_img)\n",
    "    \n",
    "    # flatten the results into a feature vector\n",
    "    channel_stats = np.concatenate((mean_rgb.flatten(), std_rgb.flatten(), mean_lab.flatten(), std_lab.flatten()))\n",
    "    \n",
    "    return channel_stats"
   ]
  },
  {
   "cell_type": "code",
   "execution_count": 10,
   "metadata": {},
   "outputs": [],
   "source": [
    "def compute_glcms(image_path):\n",
    "    img = cv2.imread(image_path, cv2.IMREAD_GRAYSCALE)  \n",
    "    \n",
    "    # distance between pixels\n",
    "    distances = [1]  \n",
    "    # angles for texture computation\n",
    "    angles = [0, np.pi/4, np.pi/2, 3*np.pi/4] \n",
    "    glcm = graycomatrix(img, distances, angles, symmetric=True, normed=True)\n",
    "    \n",
    "    contrast = graycoprops(glcm, 'contrast').ravel().mean()\n",
    "    dissimilarity = graycoprops(glcm, 'dissimilarity').ravel().mean()\n",
    "    homogeneity = graycoprops(glcm, 'homogeneity').ravel().mean()\n",
    "    energy = graycoprops(glcm, 'energy').ravel().mean()\n",
    "    correlation = graycoprops(glcm, 'correlation').ravel().mean()\n",
    "    \n",
    "    return [contrast, dissimilarity, homogeneity, energy, correlation]"
   ]
  },
  {
   "cell_type": "code",
   "execution_count": 11,
   "metadata": {},
   "outputs": [],
   "source": [
    "# define a function that loops through each file to generate a dictionary that contains\n",
    "# the feature vectors of all images in each class\n",
    "def generate_feature_vectors(files, directory):\n",
    "    feature_vectors = {}\n",
    "    \n",
    "    # iterate over each file\n",
    "    for class_name, file_name in files:\n",
    "        # load the image\n",
    "        img_path = os.path.join(directory, class_name, file_name)\n",
    "        \n",
    "        # compute color statistics\n",
    "        channel_stats = compute_channel_stats(img_path)\n",
    "        \n",
    "        # compute GLCM texture features\n",
    "        glcm_features = compute_glcms(img_path)\n",
    "    \n",
    "        combined_features = np.concatenate((channel_stats, glcm_features))\n",
    "        \n",
    "        # append each channel_stats array to the correct class in feature_vectors\n",
    "        if class_name not in feature_vectors:\n",
    "            feature_vectors[class_name] = []\n",
    "        feature_vectors[class_name].append(channel_stats)\n",
    "    \n",
    "    return feature_vectors"
   ]
  },
  {
   "cell_type": "markdown",
   "metadata": {},
   "source": [
    "# Import data"
   ]
  },
  {
   "cell_type": "code",
   "execution_count": 12,
   "metadata": {},
   "outputs": [
    {
     "name": "stdout",
     "output_type": "stream",
     "text": [
      "train/validation/test subsets were loaded from a pre-generated file\n",
      "\tNumber of train files: 4799\n",
      "\tNumber of val files: 1599\n",
      "\tNumber of test files: 1601\n"
     ]
    }
   ],
   "source": [
    "# define file directory\n",
    "directory = '../data/images'\n",
    "\n",
    "# create a list of classes considered for this project\n",
    "classes = ['beach', 'chaparral', 'dense_residential', 'forest', 'freeway', 'harbor', 'overpass', 'parking_space', 'river', 'swimming_pool']\n",
    "\n",
    "# define the train, val, and test sets\n",
    "train_files, val_files, test_files = generate_splits(classes, directory)"
   ]
  },
  {
   "cell_type": "markdown",
   "metadata": {},
   "source": [
    "# Generate Feature Vectors"
   ]
  },
  {
   "cell_type": "code",
   "execution_count": 13,
   "metadata": {},
   "outputs": [],
   "source": [
    "# generate the set of feature vectors for all images in each class\n",
    "glcm_features = generate_feature_vectors(train_files, directory)"
   ]
  },
  {
   "cell_type": "code",
   "execution_count": 25,
   "metadata": {},
   "outputs": [
    {
     "data": {
      "image/png": "[encoded data removed]",
      "text/plain": [
       "<Figure size 1080x720 with 6 Axes>"
      ]
     },
     "metadata": {
      "needs_background": "light"
     },
     "output_type": "display_data"
    }
   ],
   "source": [
    "# extract GLCM features for visualization\n",
    "contrast_values = []\n",
    "dissimilarity_values = []\n",
    "homogeneity_values = []\n",
    "energy_values = []\n",
    "correlation_values = []\n",
    "\n",
    "for class_name, feature_vectors in glcm_features.items():\n",
    "    for feature_vector in feature_vectors:\n",
    "        contrast_values.append(feature_vector[-5]) \n",
    "        dissimilarity_values.append(feature_vector[-4]) \n",
    "        homogeneity_values.append(feature_vector[-3]) \n",
    "        energy_values.append(feature_vector[-2])  \n",
    "        correlation_values.append(feature_vector[-1])  \n",
    "\n",
    "# plot histograms for each GLCM feature\n",
    "fig, axes = plt.subplots(2, 3, figsize=(15, 10))\n",
    "\n",
    "axes[0, 0].hist(contrast_values, bins=20, color='blue', alpha=0.7)\n",
    "axes[0, 0].set_title('Contrast')\n",
    "axes[0, 1].hist(dissimilarity_values, bins=20, color='green', alpha=0.7)\n",
    "axes[0, 1].set_title('Dissimilarity')\n",
    "axes[0, 2].hist(homogeneity_values, bins=20, color='red', alpha=0.7)\n",
    "axes[0, 2].set_title('Homogeneity')\n",
    "axes[1, 0].hist(energy_values, bins=20, color='orange', alpha=0.7)\n",
    "axes[1, 0].set_title('Energy')\n",
    "axes[1, 1].hist(correlation_values, bins=20, color='purple', alpha=0.7)\n",
    "axes[1, 1].set_title('Correlation')\n",
    "\n",
    "# hide the empty subplot\n",
    "axes[1, 2].axis('off')\n",
    "\n",
    "plt.tight_layout()\n",
    "plt.show()"
   ]
  },
  {
   "cell_type": "code",
   "execution_count": 26,
   "metadata": {},
   "outputs": [
    {
     "name": "stdout",
     "output_type": "stream",
     "text": [
      "<class 'dict'>\n",
      "dict_keys(['parking_space', 'beach', 'forest', 'overpass', 'river', 'dense_residential', 'swimming_pool', 'chaparral', 'freeway', 'harbor'])\n",
      "<class 'list'>\n",
      "479\n",
      "[113.95576477 127.46353149 119.84751892  22.51988622  21.80362058\n",
      "  22.92205582 133.3782196  122.48179626 134.45556641  21.85814155\n",
      "   1.91485269   1.31443199]\n"
     ]
    }
   ],
   "source": [
    "# inspections\n",
    "print(type(glcm_features))\n",
    "print(glcm_features.keys())\n",
    "print(type(glcm_features['beach']))\n",
    "print(len(glcm_features['beach']))\n",
    "print(glcm_features['beach'][0])"
   ]
  },
  {
   "cell_type": "code",
   "execution_count": null,
   "metadata": {},
   "outputs": [],
   "source": []
  }
 ],
 "metadata": {
  "kernelspec": {
   "display_name": "Python 3 (ipykernel)",
   "language": "python",
   "name": "python3"
  },
  "language_info": {
   "codemirror_mode": {
    "name": "ipython",
    "version": 3
   },
   "file_extension": ".py",
   "mimetype": "text/x-python",
   "name": "python",
   "nbconvert_exporter": "python",
   "pygments_lexer": "ipython3",
   "version": "3.9.12"
  }
 },
 "nbformat": 4,
 "nbformat_minor": 4
}
